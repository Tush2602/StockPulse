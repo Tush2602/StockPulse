{
 "cells": [
  {
   "cell_type": "code",
   "execution_count": 1,
   "id": "01e7a2bc",
   "metadata": {},
   "outputs": [],
   "source": [
    "# Importing the libary\n",
    "from twelvedata import TDClient\n",
    "from dotenv import load_dotenv\n",
    "import os\n",
    "from datetime import datetime, timedelta\n",
    "import pandas as pd\n",
    "import numpy as np\n",
    "import glob\n",
    "\n"
   ]
  },
  {
   "cell_type": "code",
   "execution_count": 2,
   "id": "fd21860c",
   "metadata": {},
   "outputs": [],
   "source": [
    "# Importing path from src\n",
    "import sys\n",
    "import yaml\n",
    "\n",
    "sys.path.append(os.path.dirname(os.path.dirname(os.path.abspath(os.getcwd()))))\n",
    "\n",
    "from src.utils.config import RAW_DATA_DIR, PROCESSED_DATA_DIR, BASE_DIR, RAW_DATA_STOCK_DIR\n",
    "from src.utils.log_handler import logger\n",
    "from src.utils.exception import StockPulseException\n",
    "\n",
    "with open(os.path.join(BASE_DIR, \"config/stock_config.yaml\"), \"r\") as file:\n",
    "    SETTINGS = yaml.safe_load(file)\n",
    "logger.info(\"Succesfully imported the file\")"
   ]
  },
  {
   "cell_type": "code",
   "execution_count": 3,
   "id": "0cd42730",
   "metadata": {},
   "outputs": [
    {
     "data": {
      "text/plain": [
       "True"
      ]
     },
     "execution_count": 3,
     "metadata": {},
     "output_type": "execute_result"
    }
   ],
   "source": [
    "# Loading the dotenv file\n",
    "load_dotenv()"
   ]
  },
  {
   "cell_type": "code",
   "execution_count": 4,
   "id": "6e1a02d5",
   "metadata": {},
   "outputs": [],
   "source": [
    "# Laading the api key fron environment variable\n",
    "API_KEY = os.getenv(\"TWELVE_DATA_API_KEY\")"
   ]
  },
  {
   "cell_type": "code",
   "execution_count": 5,
   "id": "79e145f8",
   "metadata": {},
   "outputs": [],
   "source": [
    "# Datetime variiable\n",
    "interval_time = SETTINGS['data']['interval']\n",
    "output_size = SETTINGS['data']['output_size']\n",
    "symb = SETTINGS['data']['n_symbol']\n",
    "day = SETTINGS[\"data\"][\"days\"]\n",
    "\n",
    "td = TDClient(API_KEY)\n",
    "\n",
    "end_date= pd.to_datetime(datetime.now().strftime(\"%Y-%m-%d\"))\n",
    "start_date = end_date- timedelta(days=day)\n",
    "\n",
    "td = TDClient(API_KEY)\n",
    "\n",
    "# Fetching data\n",
    "obj = td.time_series(\n",
    "    symbol = symb,\n",
    "    interval=interval_time,\n",
    "    start_date = start_date,\n",
    "    end_date= end_date,\n",
    "    outputsize = output_size\n",
    ")\n",
    "\n",
    "df = obj.as_pandas()"
   ]
  },
  {
   "cell_type": "code",
   "execution_count": 6,
   "id": "4745b0e3",
   "metadata": {},
   "outputs": [],
   "source": [
    "# Sorting the dataset correctly (Mon ---> fri)\n",
    "df = df.sort_index(ascending=True)\n"
   ]
  },
  {
   "cell_type": "code",
   "execution_count": 7,
   "id": "c15d0618",
   "metadata": {},
   "outputs": [
    {
     "data": {
      "text/html": [
       "<div>\n",
       "<style scoped>\n",
       "    .dataframe tbody tr th:only-of-type {\n",
       "        vertical-align: middle;\n",
       "    }\n",
       "\n",
       "    .dataframe tbody tr th {\n",
       "        vertical-align: top;\n",
       "    }\n",
       "\n",
       "    .dataframe thead th {\n",
       "        text-align: right;\n",
       "    }\n",
       "</style>\n",
       "<table border=\"1\" class=\"dataframe\">\n",
       "  <thead>\n",
       "    <tr style=\"text-align: right;\">\n",
       "      <th></th>\n",
       "      <th>open</th>\n",
       "      <th>high</th>\n",
       "      <th>low</th>\n",
       "      <th>close</th>\n",
       "      <th>volume</th>\n",
       "    </tr>\n",
       "    <tr>\n",
       "      <th>datetime</th>\n",
       "      <th></th>\n",
       "      <th></th>\n",
       "      <th></th>\n",
       "      <th></th>\n",
       "      <th></th>\n",
       "    </tr>\n",
       "  </thead>\n",
       "  <tbody>\n",
       "    <tr>\n",
       "      <th>2025-08-22 14:55:00</th>\n",
       "      <td>1202.33997</td>\n",
       "      <td>1202.48584</td>\n",
       "      <td>1202.04175</td>\n",
       "      <td>1202.09998</td>\n",
       "      <td>4232</td>\n",
       "    </tr>\n",
       "    <tr>\n",
       "      <th>2025-08-22 14:56:00</th>\n",
       "      <td>1201.79004</td>\n",
       "      <td>1201.79004</td>\n",
       "      <td>1201.79004</td>\n",
       "      <td>1201.79004</td>\n",
       "      <td>461</td>\n",
       "    </tr>\n",
       "    <tr>\n",
       "      <th>2025-08-22 14:57:00</th>\n",
       "      <td>1202.00000</td>\n",
       "      <td>1202.60986</td>\n",
       "      <td>1202.00000</td>\n",
       "      <td>1202.60986</td>\n",
       "      <td>6330</td>\n",
       "    </tr>\n",
       "    <tr>\n",
       "      <th>2025-08-22 14:58:00</th>\n",
       "      <td>1202.25000</td>\n",
       "      <td>1202.32500</td>\n",
       "      <td>1202.16000</td>\n",
       "      <td>1202.30000</td>\n",
       "      <td>220</td>\n",
       "    </tr>\n",
       "    <tr>\n",
       "      <th>2025-08-22 14:59:00</th>\n",
       "      <td>1202.27000</td>\n",
       "      <td>1202.27500</td>\n",
       "      <td>1202.27000</td>\n",
       "      <td>1202.27500</td>\n",
       "      <td>12</td>\n",
       "    </tr>\n",
       "  </tbody>\n",
       "</table>\n",
       "</div>"
      ],
      "text/plain": [
       "                           open        high         low       close  volume\n",
       "datetime                                                                   \n",
       "2025-08-22 14:55:00  1202.33997  1202.48584  1202.04175  1202.09998    4232\n",
       "2025-08-22 14:56:00  1201.79004  1201.79004  1201.79004  1201.79004     461\n",
       "2025-08-22 14:57:00  1202.00000  1202.60986  1202.00000  1202.60986    6330\n",
       "2025-08-22 14:58:00  1202.25000  1202.32500  1202.16000  1202.30000     220\n",
       "2025-08-22 14:59:00  1202.27000  1202.27500  1202.27000  1202.27500      12"
      ]
     },
     "execution_count": 7,
     "metadata": {},
     "output_type": "execute_result"
    }
   ],
   "source": [
    "# Having the look at top 5 rows of dataset\n",
    "df.head()"
   ]
  },
  {
   "cell_type": "code",
   "execution_count": 8,
   "id": "d9dc00b1",
   "metadata": {},
   "outputs": [
    {
     "data": {
      "text/html": [
       "<div>\n",
       "<style scoped>\n",
       "    .dataframe tbody tr th:only-of-type {\n",
       "        vertical-align: middle;\n",
       "    }\n",
       "\n",
       "    .dataframe tbody tr th {\n",
       "        vertical-align: top;\n",
       "    }\n",
       "\n",
       "    .dataframe thead th {\n",
       "        text-align: right;\n",
       "    }\n",
       "</style>\n",
       "<table border=\"1\" class=\"dataframe\">\n",
       "  <thead>\n",
       "    <tr style=\"text-align: right;\">\n",
       "      <th></th>\n",
       "      <th>open</th>\n",
       "      <th>high</th>\n",
       "      <th>low</th>\n",
       "      <th>close</th>\n",
       "      <th>volume</th>\n",
       "    </tr>\n",
       "    <tr>\n",
       "      <th>datetime</th>\n",
       "      <th></th>\n",
       "      <th></th>\n",
       "      <th></th>\n",
       "      <th></th>\n",
       "      <th></th>\n",
       "    </tr>\n",
       "  </thead>\n",
       "  <tbody>\n",
       "    <tr>\n",
       "      <th>2025-09-05 15:55:00</th>\n",
       "      <td>1243.19995</td>\n",
       "      <td>1244.02246</td>\n",
       "      <td>1243.03003</td>\n",
       "      <td>1243.04004</td>\n",
       "      <td>8448</td>\n",
       "    </tr>\n",
       "    <tr>\n",
       "      <th>2025-09-05 15:56:00</th>\n",
       "      <td>1243.27002</td>\n",
       "      <td>1243.45996</td>\n",
       "      <td>1242.85999</td>\n",
       "      <td>1243.09497</td>\n",
       "      <td>15134</td>\n",
       "    </tr>\n",
       "    <tr>\n",
       "      <th>2025-09-05 15:57:00</th>\n",
       "      <td>1242.84998</td>\n",
       "      <td>1243.75000</td>\n",
       "      <td>1242.65002</td>\n",
       "      <td>1243.75000</td>\n",
       "      <td>32626</td>\n",
       "    </tr>\n",
       "    <tr>\n",
       "      <th>2025-09-05 15:58:00</th>\n",
       "      <td>1243.37000</td>\n",
       "      <td>1243.63000</td>\n",
       "      <td>1242.92249</td>\n",
       "      <td>1243.23999</td>\n",
       "      <td>26312</td>\n",
       "    </tr>\n",
       "    <tr>\n",
       "      <th>2025-09-05 15:59:00</th>\n",
       "      <td>1243.31494</td>\n",
       "      <td>1244.17004</td>\n",
       "      <td>1242.85498</td>\n",
       "      <td>1244.17004</td>\n",
       "      <td>52242</td>\n",
       "    </tr>\n",
       "  </tbody>\n",
       "</table>\n",
       "</div>"
      ],
      "text/plain": [
       "                           open        high         low       close  volume\n",
       "datetime                                                                   \n",
       "2025-09-05 15:55:00  1243.19995  1244.02246  1243.03003  1243.04004    8448\n",
       "2025-09-05 15:56:00  1243.27002  1243.45996  1242.85999  1243.09497   15134\n",
       "2025-09-05 15:57:00  1242.84998  1243.75000  1242.65002  1243.75000   32626\n",
       "2025-09-05 15:58:00  1243.37000  1243.63000  1242.92249  1243.23999   26312\n",
       "2025-09-05 15:59:00  1243.31494  1244.17004  1242.85498  1244.17004   52242"
      ]
     },
     "execution_count": 8,
     "metadata": {},
     "output_type": "execute_result"
    }
   ],
   "source": [
    "#Having look at the bottom 5 rows of dataset\n",
    "df.tail()"
   ]
  },
  {
   "cell_type": "code",
   "execution_count": 9,
   "id": "49a9e2ba",
   "metadata": {},
   "outputs": [],
   "source": [
    "# Saving the loaded data to local \n",
    "\n",
    "df.to_csv(os.path.join(RAW_DATA_STOCK_DIR, f\"{datetime.now().strftime('%Y-%m-%d')}_raw_data.csv\"), mode='w')\n",
    "\n",
    "keep_file = SETTINGS['data']['keep_days']\n",
    "for file in glob.glob(os.path.join(RAW_DATA_DIR, \"*.csv\")):\n",
    "    file_time= datetime.fromtimestamp(os.path.getmtime(file))\n",
    "    if (datetime.now() - file_time).days >keep_file:\n",
    "        os.remove(file)\n",
    "        print(f\"Deleted old file: {file}\")"
   ]
  },
  {
   "cell_type": "code",
   "execution_count": null,
   "id": "75d1e686",
   "metadata": {},
   "outputs": [],
   "source": []
  }
 ],
 "metadata": {
  "kernelspec": {
   "display_name": "Python 3",
   "language": "python",
   "name": "python3"
  },
  "language_info": {
   "codemirror_mode": {
    "name": "ipython",
    "version": 3
   },
   "file_extension": ".py",
   "mimetype": "text/x-python",
   "name": "python",
   "nbconvert_exporter": "python",
   "pygments_lexer": "ipython3",
   "version": "3.11.0"
  }
 },
 "nbformat": 4,
 "nbformat_minor": 5
}
