{
 "cells": [
  {
   "cell_type": "code",
   "execution_count": 1,
   "id": "01e7a2bc",
   "metadata": {},
   "outputs": [],
   "source": [
    "# Importing the libary\n",
    "from dotenv import load_dotenv\n",
    "import os\n",
    "from datetime import datetime, timedelta\n",
    "import pandas as pd\n",
    "import numpy as np\n",
    "import glob\n",
    "\n"
   ]
  },
  {
   "cell_type": "code",
   "execution_count": 4,
   "id": "87d13c49",
   "metadata": {},
   "outputs": [
    {
     "data": {
      "text/plain": [
       "'c:\\\\Users\\\\Tushar\\\\OneDrive\\\\Desktop\\\\StockPulse'"
      ]
     },
     "execution_count": 4,
     "metadata": {},
     "output_type": "execute_result"
    }
   ],
   "source": [
    "(os.path.dirname(os.path.dirname(os.path.abspath(os.getcwd()))))"
   ]
  },
  {
   "cell_type": "code",
   "execution_count": 7,
   "id": "fd21860c",
   "metadata": {},
   "outputs": [],
   "source": [
    "# Importing path from src\n",
    "import sys\n",
    "import yaml\n",
    "\n",
    "sys.path.append(os.path.dirname(os.path.dirname(os.path.abspath(os.getcwd()))))\n",
    "\n",
    "from src.utils.config import RAW_DATA_DIR, PROCESSED_DATA_DIR, BASE_DIR\n",
    "from src.utils.log_handler import logger\n",
    "\n",
    "with open(os.path.join(BASE_DIR, \"config/stock_config.yaml\"), \"r\") as file:\n",
    "    SETTINGS = yaml.safe_load(file)\n",
    "logger.info(\"Succesfully imported the file\")"
   ]
  },
  {
   "cell_type": "code",
   "execution_count": 9,
   "id": "0cd42730",
   "metadata": {},
   "outputs": [
    {
     "data": {
      "text/plain": [
       "True"
      ]
     },
     "execution_count": 9,
     "metadata": {},
     "output_type": "execute_result"
    }
   ],
   "source": [
    "# Loading the dotenv file\n",
    "load_dotenv()"
   ]
  },
  {
   "cell_type": "code",
   "execution_count": 10,
   "id": "6e1a02d5",
   "metadata": {},
   "outputs": [],
   "source": [
    "# Laading the api key fron environment variable\n",
    "API_KEY = os.getenv(\"TWELVE_DATA_API_KEY\")"
   ]
  },
  {
   "cell_type": "code",
   "execution_count": 11,
   "id": "6ef65d65",
   "metadata": {},
   "outputs": [
    {
     "name": "stdout",
     "output_type": "stream",
     "text": [
      "60\n"
     ]
    }
   ],
   "source": [
    "day = SETTINGS[\"data\"][\"days\"]\n",
    "print(day)"
   ]
  },
  {
   "cell_type": "code",
   "execution_count": 12,
   "id": "79e145f8",
   "metadata": {},
   "outputs": [
    {
     "ename": "NameError",
     "evalue": "name 'TDClient' is not defined",
     "output_type": "error",
     "traceback": [
      "\u001b[31m---------------------------------------------------------------------------\u001b[39m",
      "\u001b[31mNameError\u001b[39m                                 Traceback (most recent call last)",
      "\u001b[36mCell\u001b[39m\u001b[36m \u001b[39m\u001b[32mIn[12]\u001b[39m\u001b[32m, line 10\u001b[39m\n\u001b[32m      7\u001b[39m end_date= pd.to_datetime(datetime.now().strftime(\u001b[33m\"\u001b[39m\u001b[33m%\u001b[39m\u001b[33mY-\u001b[39m\u001b[33m%\u001b[39m\u001b[33mm-\u001b[39m\u001b[38;5;132;01m%d\u001b[39;00m\u001b[33m\"\u001b[39m))\n\u001b[32m      8\u001b[39m start_date = end_date- timedelta(days=day)\n\u001b[32m---> \u001b[39m\u001b[32m10\u001b[39m td = \u001b[43mTDClient\u001b[49m(API_KEY)\n\u001b[32m     12\u001b[39m \u001b[38;5;66;03m# Fetching data\u001b[39;00m\n\u001b[32m     13\u001b[39m obj = td.time_series(\n\u001b[32m     14\u001b[39m     symbol = symb,\n\u001b[32m     15\u001b[39m     interval=interval_time,\n\u001b[32m   (...)\u001b[39m\u001b[32m     18\u001b[39m     outputsize = output_size\n\u001b[32m     19\u001b[39m )\n",
      "\u001b[31mNameError\u001b[39m: name 'TDClient' is not defined"
     ]
    }
   ],
   "source": [
    "# Datetime variiable\n",
    "day = SETTINGS[\"data\"][\"days\"]\n",
    "interval_time = SETTINGS['data']['interval']\n",
    "output_size = SETTINGS['data']['output_size']\n",
    "symb = SETTINGS['data']['n_symbol']\n",
    "\n",
    "end_date= pd.to_datetime(datetime.now().strftime(\"%Y-%m-%d\"))\n",
    "start_date = end_date- timedelta(days=day)\n",
    "\n",
    "td = TDClient(API_KEY)\n",
    "\n",
    "# Fetching data\n",
    "obj = td.time_series(\n",
    "    symbol = symb,\n",
    "    interval=interval_time,\n",
    "    start_date = start_date,\n",
    "    end_date= end_date,\n",
    "    outputsize = output_size\n",
    ")\n",
    "\n",
    "df = obj.as_pandas()"
   ]
  },
  {
   "cell_type": "code",
   "execution_count": 13,
   "id": "d9dc00b1",
   "metadata": {},
   "outputs": [
    {
     "ename": "NameError",
     "evalue": "name 'df' is not defined",
     "output_type": "error",
     "traceback": [
      "\u001b[31m---------------------------------------------------------------------------\u001b[39m",
      "\u001b[31mNameError\u001b[39m                                 Traceback (most recent call last)",
      "\u001b[36mCell\u001b[39m\u001b[36m \u001b[39m\u001b[32mIn[13]\u001b[39m\u001b[32m, line 1\u001b[39m\n\u001b[32m----> \u001b[39m\u001b[32m1\u001b[39m \u001b[43mdf\u001b[49m.sort_index(ascending=\u001b[38;5;28;01mTrue\u001b[39;00m)\n\u001b[32m      2\u001b[39m df.tail()\n",
      "\u001b[31mNameError\u001b[39m: name 'df' is not defined"
     ]
    }
   ],
   "source": [
    "df.sort_index(ascending=True)\n",
    "df.tail()"
   ]
  },
  {
   "cell_type": "code",
   "execution_count": 14,
   "id": "49a9e2ba",
   "metadata": {},
   "outputs": [
    {
     "ename": "NameError",
     "evalue": "name 'df' is not defined",
     "output_type": "error",
     "traceback": [
      "\u001b[31m---------------------------------------------------------------------------\u001b[39m",
      "\u001b[31mNameError\u001b[39m                                 Traceback (most recent call last)",
      "\u001b[36mCell\u001b[39m\u001b[36m \u001b[39m\u001b[32mIn[14]\u001b[39m\u001b[32m, line 3\u001b[39m\n\u001b[32m      1\u001b[39m \u001b[38;5;66;03m# Saving the loaded data to local \u001b[39;00m\n\u001b[32m----> \u001b[39m\u001b[32m3\u001b[39m \u001b[43mdf\u001b[49m.to_csv(os.path.join(RAW_DATA_DIR, \u001b[33mf\u001b[39m\u001b[33m\"\u001b[39m\u001b[38;5;132;01m{\u001b[39;00mdatetime.now().strftime(\u001b[33m'\u001b[39m\u001b[33m%\u001b[39m\u001b[33mY-\u001b[39m\u001b[33m%\u001b[39m\u001b[33mm-\u001b[39m\u001b[38;5;132;01m%d\u001b[39;00m\u001b[33m'\u001b[39m)\u001b[38;5;132;01m}\u001b[39;00m\u001b[33m_raw_data.csv\u001b[39m\u001b[33m\"\u001b[39m), mode=\u001b[33m'\u001b[39m\u001b[33ma\u001b[39m\u001b[33m'\u001b[39m)\n\u001b[32m      5\u001b[39m keep_file = SETTINGS[\u001b[33m'\u001b[39m\u001b[33mdata\u001b[39m\u001b[33m'\u001b[39m][\u001b[33m'\u001b[39m\u001b[33mkeep_days\u001b[39m\u001b[33m'\u001b[39m]\n\u001b[32m      6\u001b[39m \u001b[38;5;28;01mfor\u001b[39;00m file \u001b[38;5;129;01min\u001b[39;00m glob.glob(os.path.join(RAW_DATA_DIR, \u001b[33m\"\u001b[39m\u001b[33m*.csv\u001b[39m\u001b[33m\"\u001b[39m)):\n",
      "\u001b[31mNameError\u001b[39m: name 'df' is not defined"
     ]
    }
   ],
   "source": [
    "# Saving the loaded data to local \n",
    "\n",
    "df.to_csv(os.path.join(RAW_DATA_DIR, f\"{datetime.now().strftime('%Y-%m-%d')}_raw_data.csv\"), mode='a')\n",
    "\n",
    "keep_file = SETTINGS['data']['keep_days']\n",
    "for file in glob.glob(os.path.join(RAW_DATA_DIR, \"*.csv\")):\n",
    "    file_time= datetime.fromtimestamp(os.path.getmtime(file))\n",
    "    if (datetime.now() - file_time).days >keep_file:\n",
    "        os.remove(file)\n",
    "        print(f\"Deleted old file: {file}\")"
   ]
  },
  {
   "cell_type": "code",
   "execution_count": null,
   "id": "75d1e686",
   "metadata": {},
   "outputs": [],
   "source": []
  },
  {
   "cell_type": "code",
   "execution_count": null,
   "id": "854a9924",
   "metadata": {},
   "outputs": [],
   "source": []
  }
 ],
 "metadata": {
  "kernelspec": {
   "display_name": "Python 3",
   "language": "python",
   "name": "python3"
  },
  "language_info": {
   "codemirror_mode": {
    "name": "ipython",
    "version": 3
   },
   "file_extension": ".py",
   "mimetype": "text/x-python",
   "name": "python",
   "nbconvert_exporter": "python",
   "pygments_lexer": "ipython3",
   "version": "3.11.0"
  }
 },
 "nbformat": 4,
 "nbformat_minor": 5
}
