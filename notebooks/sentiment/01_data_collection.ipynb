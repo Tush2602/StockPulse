{
 "cells": [
  {
   "cell_type": "code",
   "execution_count": null,
   "id": "01e7a2bc",
   "metadata": {},
   "outputs": [],
   "source": [
    "# Importing the libary\n",
    "from dotenv import load_dotenv\n",
    "import os\n",
    "from datetime import datetime, timedelta\n",
    "import pandas as pd\n",
    "import numpy as np\n",
    "import glob\n",
    "\n"
   ]
  },
  {
   "cell_type": "code",
   "execution_count": 2,
   "id": "fd21860c",
   "metadata": {},
   "outputs": [
    {
     "name": "stderr",
     "output_type": "stream",
     "text": [
      "[2025-09-06 00:39:14,823] 35 root - INFO - Logging initialized successfully\n",
      "[2025-09-06 00:39:14,826] 12 root - INFO - Succesfully imported the file\n"
     ]
    }
   ],
   "source": [
    "# Importing path from src\n",
    "import sys\n",
    "import yaml\n",
    "\n",
    "sys.path.append(os.path.dirname(os.path.abspath(os.getcwd())))\n",
    "\n",
    "from src.config import RAW_DATA_DIR, PROCESSED_DATA_DIR, BASE_DIR\n",
    "from src.log_handler import LOGGER\n",
    "\n",
    "with open(os.path.join(BASE_DIR, \"config/config.yaml\"), \"r\") as file:\n",
    "    SETTINGS = yaml.safe_load(file)\n",
    "LOGGER.info(\"Succesfully imported the file\")"
   ]
  },
  {
   "cell_type": "code",
   "execution_count": 3,
   "id": "0cd42730",
   "metadata": {},
   "outputs": [
    {
     "data": {
      "text/plain": [
       "True"
      ]
     },
     "execution_count": 3,
     "metadata": {},
     "output_type": "execute_result"
    }
   ],
   "source": [
    "# Loading the dotenv file\n",
    "load_dotenv()"
   ]
  },
  {
   "cell_type": "code",
   "execution_count": 4,
   "id": "6e1a02d5",
   "metadata": {},
   "outputs": [],
   "source": [
    "# Laading the api key fron environment variable\n",
    "API_KEY = os.getenv(\"TWELVE_DATA_API_KEY\")"
   ]
  },
  {
   "cell_type": "code",
   "execution_count": 5,
   "id": "6ef65d65",
   "metadata": {},
   "outputs": [
    {
     "name": "stdout",
     "output_type": "stream",
     "text": [
      "60\n"
     ]
    }
   ],
   "source": [
    "day = SETTINGS[\"data\"][\"days\"]\n",
    "print(day)"
   ]
  },
  {
   "cell_type": "code",
   "execution_count": 6,
   "id": "79e145f8",
   "metadata": {},
   "outputs": [],
   "source": [
    "# Datetime variiable\n",
    "day = SETTINGS[\"data\"][\"days\"]\n",
    "interval_time = SETTINGS['data']['interval']\n",
    "output_size = SETTINGS['data']['output_size']\n",
    "symb = SETTINGS['data']['n_symbol']\n",
    "\n",
    "end_date= pd.to_datetime(datetime.now().strftime(\"%Y-%m-%d\"))\n",
    "start_date = end_date- timedelta(days=day)\n",
    "\n",
    "td = TDClient(API_KEY)\n",
    "\n",
    "# Fetching data\n",
    "obj = td.time_series(\n",
    "    symbol = symb,\n",
    "    interval=interval_time,\n",
    "    start_date = start_date,\n",
    "    end_date= end_date,\n",
    "    outputsize = output_size\n",
    ")\n",
    "\n",
    "df = obj.as_pandas()"
   ]
  },
  {
   "cell_type": "code",
   "execution_count": 7,
   "id": "d9dc00b1",
   "metadata": {},
   "outputs": [
    {
     "data": {
      "text/html": [
       "<div>\n",
       "<style scoped>\n",
       "    .dataframe tbody tr th:only-of-type {\n",
       "        vertical-align: middle;\n",
       "    }\n",
       "\n",
       "    .dataframe tbody tr th {\n",
       "        vertical-align: top;\n",
       "    }\n",
       "\n",
       "    .dataframe thead th {\n",
       "        text-align: right;\n",
       "    }\n",
       "</style>\n",
       "<table border=\"1\" class=\"dataframe\">\n",
       "  <thead>\n",
       "    <tr style=\"text-align: right;\">\n",
       "      <th></th>\n",
       "      <th>open</th>\n",
       "      <th>high</th>\n",
       "      <th>low</th>\n",
       "      <th>close</th>\n",
       "      <th>volume</th>\n",
       "    </tr>\n",
       "    <tr>\n",
       "      <th>datetime</th>\n",
       "      <th></th>\n",
       "      <th></th>\n",
       "      <th></th>\n",
       "      <th></th>\n",
       "      <th></th>\n",
       "    </tr>\n",
       "  </thead>\n",
       "  <tbody>\n",
       "    <tr>\n",
       "      <th>2025-08-18 14:48:00</th>\n",
       "      <td>1246.51501</td>\n",
       "      <td>1246.51501</td>\n",
       "      <td>1246.19495</td>\n",
       "      <td>1246.35535</td>\n",
       "      <td>2085</td>\n",
       "    </tr>\n",
       "    <tr>\n",
       "      <th>2025-08-18 14:47:00</th>\n",
       "      <td>1246.52002</td>\n",
       "      <td>1246.96997</td>\n",
       "      <td>1246.00745</td>\n",
       "      <td>1246.00745</td>\n",
       "      <td>2640</td>\n",
       "    </tr>\n",
       "    <tr>\n",
       "      <th>2025-08-18 14:46:00</th>\n",
       "      <td>1245.72998</td>\n",
       "      <td>1245.79504</td>\n",
       "      <td>1245.72998</td>\n",
       "      <td>1245.79504</td>\n",
       "      <td>1875</td>\n",
       "    </tr>\n",
       "    <tr>\n",
       "      <th>2025-08-18 14:45:00</th>\n",
       "      <td>1246.06995</td>\n",
       "      <td>1246.08997</td>\n",
       "      <td>1245.92004</td>\n",
       "      <td>1245.92505</td>\n",
       "      <td>3204</td>\n",
       "    </tr>\n",
       "    <tr>\n",
       "      <th>2025-08-18 14:44:00</th>\n",
       "      <td>1246.19995</td>\n",
       "      <td>1246.19995</td>\n",
       "      <td>1246.15503</td>\n",
       "      <td>1246.15503</td>\n",
       "      <td>2105</td>\n",
       "    </tr>\n",
       "  </tbody>\n",
       "</table>\n",
       "</div>"
      ],
      "text/plain": [
       "                           open        high         low       close  volume\n",
       "datetime                                                                   \n",
       "2025-08-18 14:48:00  1246.51501  1246.51501  1246.19495  1246.35535    2085\n",
       "2025-08-18 14:47:00  1246.52002  1246.96997  1246.00745  1246.00745    2640\n",
       "2025-08-18 14:46:00  1245.72998  1245.79504  1245.72998  1245.79504    1875\n",
       "2025-08-18 14:45:00  1246.06995  1246.08997  1245.92004  1245.92505    3204\n",
       "2025-08-18 14:44:00  1246.19995  1246.19995  1246.15503  1246.15503    2105"
      ]
     },
     "execution_count": 7,
     "metadata": {},
     "output_type": "execute_result"
    }
   ],
   "source": [
    "df.sort_index(ascending=True)\n",
    "df.tail()"
   ]
  },
  {
   "cell_type": "code",
   "execution_count": 8,
   "id": "49a9e2ba",
   "metadata": {},
   "outputs": [],
   "source": [
    "# Saving the loaded data to local \n",
    "\n",
    "df.to_csv(os.path.join(RAW_DATA_DIR, f\"{datetime.now().strftime('%Y-%m-%d')}_raw_data.csv\"), mode='a')\n",
    "\n",
    "keep_file = SETTINGS['data']['keep_days']\n",
    "for file in glob.glob(os.path.join(RAW_DATA_DIR, \"*.csv\")):\n",
    "    file_time= datetime.fromtimestamp(os.path.getmtime(file))\n",
    "    if (datetime.now() - file_time).days >keep_file:\n",
    "        os.remove(file)\n",
    "        print(f\"Deleted old file: {file}\")"
   ]
  },
  {
   "cell_type": "code",
   "execution_count": null,
   "id": "75d1e686",
   "metadata": {},
   "outputs": [],
   "source": []
  }
 ],
 "metadata": {
  "kernelspec": {
   "display_name": "Python 3",
   "language": "python",
   "name": "python3"
  },
  "language_info": {
   "codemirror_mode": {
    "name": "ipython",
    "version": 3
   },
   "file_extension": ".py",
   "mimetype": "text/x-python",
   "name": "python",
   "nbconvert_exporter": "python",
   "pygments_lexer": "ipython3",
   "version": "3.11.0"
  }
 },
 "nbformat": 4,
 "nbformat_minor": 5
}
